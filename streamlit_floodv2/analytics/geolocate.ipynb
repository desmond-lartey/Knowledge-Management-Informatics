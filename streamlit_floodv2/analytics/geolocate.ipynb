{
 "cells": [
  {
   "cell_type": "markdown",
   "metadata": {},
   "source": [
    "# Always change file name to begin this program\n",
    "👆👆👆👆👆👆👆👆👆👆👆👆👆👆👆👆👆👆👆"
   ]
  },
  {
   "cell_type": "code",
   "execution_count": 1,
   "metadata": {},
   "outputs": [],
   "source": [
    "# import library\n",
    "import pandas as pd\n",
    "import numpy as np\n",
    "import geopandas as gpd\n",
    "from geopy.geocoders import Nominatim"
   ]
  },
  {
   "cell_type": "code",
   "execution_count": 2,
   "metadata": {},
   "outputs": [
    {
     "data": {
      "text/html": [
       "<div>\n",
       "<style scoped>\n",
       "    .dataframe tbody tr th:only-of-type {\n",
       "        vertical-align: middle;\n",
       "    }\n",
       "\n",
       "    .dataframe tbody tr th {\n",
       "        vertical-align: top;\n",
       "    }\n",
       "\n",
       "    .dataframe thead th {\n",
       "        text-align: right;\n",
       "    }\n",
       "</style>\n",
       "<table border=\"1\" class=\"dataframe\">\n",
       "  <thead>\n",
       "    <tr style=\"text-align: right;\">\n",
       "      <th></th>\n",
       "      <th>Year</th>\n",
       "      <th>Date_Temp</th>\n",
       "      <th>Date</th>\n",
       "      <th>State</th>\n",
       "      <th>Region</th>\n",
       "      <th>Place</th>\n",
       "      <th>Name</th>\n",
       "      <th>Line Check</th>\n",
       "    </tr>\n",
       "  </thead>\n",
       "  <tbody>\n",
       "    <tr>\n",
       "      <th>0</th>\n",
       "      <td>2015.0</td>\n",
       "      <td>1/1</td>\n",
       "      <td>1/1/2015</td>\n",
       "      <td>Johor</td>\n",
       "      <td>Tangkak</td>\n",
       "      <td>Kg. Seberang Gajah</td>\n",
       "      <td>Kg. Seberang Gajah, Tangkak</td>\n",
       "      <td>1</td>\n",
       "    </tr>\n",
       "    <tr>\n",
       "      <th>1</th>\n",
       "      <td>2015.0</td>\n",
       "      <td>1/1</td>\n",
       "      <td>1/1/2015</td>\n",
       "      <td>Johor</td>\n",
       "      <td>Tangkak</td>\n",
       "      <td>Kg. Sialang Dalam</td>\n",
       "      <td>Kg. Sialang Dalam, Tangkak</td>\n",
       "      <td>1</td>\n",
       "    </tr>\n",
       "    <tr>\n",
       "      <th>2</th>\n",
       "      <td>2015.0</td>\n",
       "      <td>3/1</td>\n",
       "      <td>3/1/2015</td>\n",
       "      <td>Johor</td>\n",
       "      <td>Kota Tinggi</td>\n",
       "      <td>Kg. Lepau</td>\n",
       "      <td>Kg. Lepau, Kota Tinggi</td>\n",
       "      <td>1</td>\n",
       "    </tr>\n",
       "    <tr>\n",
       "      <th>3</th>\n",
       "      <td>2015.0</td>\n",
       "      <td>12/8</td>\n",
       "      <td>12/8/2015</td>\n",
       "      <td>Johor</td>\n",
       "      <td>Tangkak</td>\n",
       "      <td>Kg. Seri Makmor</td>\n",
       "      <td>Kg. Seri Makmor, Tangkak</td>\n",
       "      <td>1</td>\n",
       "    </tr>\n",
       "    <tr>\n",
       "      <th>4</th>\n",
       "      <td>2015.0</td>\n",
       "      <td>12/8</td>\n",
       "      <td>12/8/2015</td>\n",
       "      <td>Johor</td>\n",
       "      <td>Tangkak</td>\n",
       "      <td>Kg. Seberang Gajah</td>\n",
       "      <td>Kg. Seberang Gajah, Tangkak</td>\n",
       "      <td>1</td>\n",
       "    </tr>\n",
       "  </tbody>\n",
       "</table>\n",
       "</div>"
      ],
      "text/plain": [
       "     Year Date_Temp       Date  State       Region               Place  \\\n",
       "0  2015.0       1/1   1/1/2015  Johor      Tangkak  Kg. Seberang Gajah   \n",
       "1  2015.0       1/1   1/1/2015  Johor      Tangkak   Kg. Sialang Dalam   \n",
       "2  2015.0       3/1   3/1/2015  Johor  Kota Tinggi           Kg. Lepau   \n",
       "3  2015.0      12/8  12/8/2015  Johor      Tangkak     Kg. Seri Makmor   \n",
       "4  2015.0      12/8  12/8/2015  Johor      Tangkak  Kg. Seberang Gajah   \n",
       "\n",
       "                          Name  Line Check  \n",
       "0  Kg. Seberang Gajah, Tangkak           1  \n",
       "1   Kg. Sialang Dalam, Tangkak           1  \n",
       "2       Kg. Lepau, Kota Tinggi           1  \n",
       "3     Kg. Seri Makmor, Tangkak           1  \n",
       "4  Kg. Seberang Gajah, Tangkak           1  "
      ]
     },
     "execution_count": 2,
     "metadata": {},
     "output_type": "execute_result"
    }
   ],
   "source": [
    "data = pd.read_excel('data2/all_states_all_years_v2.xlsx')\n",
    "data.head()"
   ]
  },
  {
   "cell_type": "code",
   "execution_count": 3,
   "metadata": {},
   "outputs": [
    {
     "name": "stdout",
     "output_type": "stream",
     "text": [
      "1 30m 12.798s N, 103 44m 58.411s E\n",
      "Johor Bahru, Iskandar Malaysia, Johor, 80350, Malaysia\n",
      "Latitude: 1.503555\n",
      "Longitude: 103.7495586\n"
     ]
    }
   ],
   "source": [
    "# testing geolocator library\n",
    "geolocator = Nominatim(user_agent=\"u2004763@siswa.um.edu.my\")\n",
    "location = geolocator.geocode(\"Johor Bahru\") # testing\n",
    "\n",
    "print(location.point)\n",
    "print(location.address)\n",
    "\n",
    "# print out longitude and latitude\n",
    "point = location.point\n",
    "print(\"Latitude:\", point.latitude)\n",
    "print(\"Longitude:\", point.longitude)"
   ]
  },
  {
   "cell_type": "code",
   "execution_count": 4,
   "metadata": {},
   "outputs": [
    {
     "name": "stdout",
     "output_type": "stream",
     "text": [
      "31.74317257408483% of addresses were geocoded!\n"
     ]
    }
   ],
   "source": [
    "# geocoding function\n",
    "def my_geocoder(row):\n",
    "    try:\n",
    "        point = geolocator.geocode(row).point\n",
    "        return pd.Series({'Latitude': point.latitude, 'Longitude': point.longitude})\n",
    "    except:\n",
    "        return pd.Series({'Latitude': None, 'Longitude': None})\n",
    "\n",
    "data[['Latitude', 'Longitude']] = data.apply(lambda x: my_geocoder(x['Name']), axis=1)\n",
    "\n",
    "# check the percentage of data successfully geocoded\n",
    "print(\"{}% of addresses were geocoded!\".format(\n",
    "    (1 - sum(np.isnan(data[\"Latitude\"])) / len(data)) * 100))"
   ]
  },
  {
   "cell_type": "code",
   "execution_count": 5,
   "metadata": {},
   "outputs": [],
   "source": [
    "# export file including NaN for checking\n",
    "data.to_csv('data2/all_states_all_years_geocoded_nan_v2.csv', index=False)"
   ]
  },
  {
   "cell_type": "code",
   "execution_count": 6,
   "metadata": {},
   "outputs": [
    {
     "name": "stderr",
     "output_type": "stream",
     "text": [
      "c:\\Users\\Khor Kean Teng\\AppData\\Local\\Programs\\Python\\Python311\\Lib\\site-packages\\pyproj\\crs\\crs.py:141: FutureWarning: '+init=<authority>:<code>' syntax is deprecated. '<authority>:<code>' is the preferred initialization method. When making the change, be mindful of axis order changes: https://pyproj4.github.io/pyproj/stable/gotchas.html#axis-order-changes-in-proj-6\n",
      "  in_crs_string = _prepare_from_proj_string(in_crs_string)\n"
     ]
    },
    {
     "data": {
      "text/html": [
       "<div>\n",
       "<style scoped>\n",
       "    .dataframe tbody tr th:only-of-type {\n",
       "        vertical-align: middle;\n",
       "    }\n",
       "\n",
       "    .dataframe tbody tr th {\n",
       "        vertical-align: top;\n",
       "    }\n",
       "\n",
       "    .dataframe thead th {\n",
       "        text-align: right;\n",
       "    }\n",
       "</style>\n",
       "<table border=\"1\" class=\"dataframe\">\n",
       "  <thead>\n",
       "    <tr style=\"text-align: right;\">\n",
       "      <th></th>\n",
       "      <th>Year</th>\n",
       "      <th>Date_Temp</th>\n",
       "      <th>Date</th>\n",
       "      <th>State</th>\n",
       "      <th>Region</th>\n",
       "      <th>Place</th>\n",
       "      <th>Name</th>\n",
       "      <th>Line Check</th>\n",
       "      <th>Latitude</th>\n",
       "      <th>Longitude</th>\n",
       "      <th>geometry</th>\n",
       "    </tr>\n",
       "  </thead>\n",
       "  <tbody>\n",
       "    <tr>\n",
       "      <th>2</th>\n",
       "      <td>2015.0</td>\n",
       "      <td>3/1</td>\n",
       "      <td>3/1/2015</td>\n",
       "      <td>Johor</td>\n",
       "      <td>Kota Tinggi</td>\n",
       "      <td>Kg. Lepau</td>\n",
       "      <td>Kg. Lepau, Kota Tinggi</td>\n",
       "      <td>1</td>\n",
       "      <td>1.389603</td>\n",
       "      <td>104.149358</td>\n",
       "      <td>POINT (104.14936 1.38960)</td>\n",
       "    </tr>\n",
       "    <tr>\n",
       "      <th>6</th>\n",
       "      <td>2015.0</td>\n",
       "      <td>22/9</td>\n",
       "      <td>22/9/2015</td>\n",
       "      <td>Johor</td>\n",
       "      <td>Johor Bahru</td>\n",
       "      <td>Kg. Pasir</td>\n",
       "      <td>Kg. Pasir, Johor Bahru</td>\n",
       "      <td>1</td>\n",
       "      <td>1.496672</td>\n",
       "      <td>103.701202</td>\n",
       "      <td>POINT (103.70120 1.49667)</td>\n",
       "    </tr>\n",
       "    <tr>\n",
       "      <th>10</th>\n",
       "      <td>2015.0</td>\n",
       "      <td>5/11</td>\n",
       "      <td>5/11/2015</td>\n",
       "      <td>Johor</td>\n",
       "      <td>Johor Bahru</td>\n",
       "      <td>Kg. Pasir</td>\n",
       "      <td>Kg. Pasir, Johor Bahru</td>\n",
       "      <td>1</td>\n",
       "      <td>1.496672</td>\n",
       "      <td>103.701202</td>\n",
       "      <td>POINT (103.70120 1.49667)</td>\n",
       "    </tr>\n",
       "    <tr>\n",
       "      <th>11</th>\n",
       "      <td>2015.0</td>\n",
       "      <td>11/11</td>\n",
       "      <td>11/11/2015</td>\n",
       "      <td>Johor</td>\n",
       "      <td>Tangkak</td>\n",
       "      <td>Kg. Pulau Penarik, Sg. Mati</td>\n",
       "      <td>Kg. Pulau Penarik, Sg. Mati, Tangkak</td>\n",
       "      <td>1</td>\n",
       "      <td>2.137150</td>\n",
       "      <td>102.567195</td>\n",
       "      <td>POINT (102.56720 2.13715)</td>\n",
       "    </tr>\n",
       "    <tr>\n",
       "      <th>14</th>\n",
       "      <td>2015.0</td>\n",
       "      <td>11/11</td>\n",
       "      <td>11/11/2015</td>\n",
       "      <td>Johor</td>\n",
       "      <td>Kluang</td>\n",
       "      <td>Kg. Paya Mas</td>\n",
       "      <td>Kg. Paya Mas, Kluang</td>\n",
       "      <td>1</td>\n",
       "      <td>1.844126</td>\n",
       "      <td>103.301476</td>\n",
       "      <td>POINT (103.30148 1.84413)</td>\n",
       "    </tr>\n",
       "  </tbody>\n",
       "</table>\n",
       "</div>"
      ],
      "text/plain": [
       "      Year Date_Temp        Date  State       Region  \\\n",
       "2   2015.0       3/1    3/1/2015  Johor  Kota Tinggi   \n",
       "6   2015.0      22/9   22/9/2015  Johor  Johor Bahru   \n",
       "10  2015.0      5/11   5/11/2015  Johor  Johor Bahru   \n",
       "11  2015.0     11/11  11/11/2015  Johor      Tangkak   \n",
       "14  2015.0     11/11  11/11/2015  Johor       Kluang   \n",
       "\n",
       "                          Place                                  Name  \\\n",
       "2                     Kg. Lepau                Kg. Lepau, Kota Tinggi   \n",
       "6                     Kg. Pasir                Kg. Pasir, Johor Bahru   \n",
       "10                    Kg. Pasir                Kg. Pasir, Johor Bahru   \n",
       "11  Kg. Pulau Penarik, Sg. Mati  Kg. Pulau Penarik, Sg. Mati, Tangkak   \n",
       "14                 Kg. Paya Mas                  Kg. Paya Mas, Kluang   \n",
       "\n",
       "    Line Check  Latitude   Longitude                   geometry  \n",
       "2            1  1.389603  104.149358  POINT (104.14936 1.38960)  \n",
       "6            1  1.496672  103.701202  POINT (103.70120 1.49667)  \n",
       "10           1  1.496672  103.701202  POINT (103.70120 1.49667)  \n",
       "11           1  2.137150  102.567195  POINT (102.56720 2.13715)  \n",
       "14           1  1.844126  103.301476  POINT (103.30148 1.84413)  "
      ]
     },
     "execution_count": 6,
     "metadata": {},
     "output_type": "execute_result"
    }
   ],
   "source": [
    "# Drop location that were not successfully geocoded\n",
    "data = data.loc[~np.isnan(data[\"Latitude\"])]\n",
    "data = gpd.GeoDataFrame(\n",
    "    data, geometry=gpd.points_from_xy(data.Longitude, data.Latitude))\n",
    "data.crs = {'init': 'epsg:4326'}\n",
    "data.head()"
   ]
  },
  {
   "cell_type": "code",
   "execution_count": 7,
   "metadata": {},
   "outputs": [],
   "source": [
    "# export csv\n",
    "data.to_csv('data2/all_states_all_years_geocoded_v2.csv', index=False)"
   ]
  }
 ],
 "metadata": {
  "kernelspec": {
   "display_name": "Python 3",
   "language": "python",
   "name": "python3"
  },
  "language_info": {
   "codemirror_mode": {
    "name": "ipython",
    "version": 3
   },
   "file_extension": ".py",
   "mimetype": "text/x-python",
   "name": "python",
   "nbconvert_exporter": "python",
   "pygments_lexer": "ipython3",
   "version": "3.11.4"
  },
  "orig_nbformat": 4
 },
 "nbformat": 4,
 "nbformat_minor": 2
}
