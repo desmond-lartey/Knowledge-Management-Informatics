{
 "cells": [
  {
   "cell_type": "markdown",
   "metadata": {},
   "source": [
    "# Analysing Geocoding Performance"
   ]
  },
  {
   "cell_type": "code",
   "execution_count": 7,
   "metadata": {},
   "outputs": [],
   "source": [
    "import pandas as pd\n",
    "import numpy as np\n",
    "import plotly.express as px"
   ]
  },
  {
   "cell_type": "code",
   "execution_count": 29,
   "metadata": {},
   "outputs": [
    {
     "name": "stdout",
     "output_type": "stream",
     "text": [
      "   Version  Success Case  Total Row Number  Success Rate\n",
      "0        1          5388             17210      0.313074\n",
      "1        2          5463             17210      0.317432\n"
     ]
    }
   ],
   "source": [
    "# success rate\n",
    "# using two different location formats:\n",
    "# 1. Place, Region, State\n",
    "# 2. Place, Region\n",
    "\n",
    "data1 = pd.read_csv('data2/all_states_all_years_geocoded_nan_run2.csv')\n",
    "data2 = pd.read_csv('data2/all_states_all_years_geocoded_nan_v2.csv')\n",
    "\n",
    "x1 = data1[['Latitude']].isna().sum()\n",
    "x2 = data2[['Latitude']].isna().sum()\n",
    "\n",
    "r1 = (len(data1) - x1.Latitude)/len(data1)\n",
    "r2 = (len(data2) - x2.Latitude)/len(data2)\n",
    "\n",
    "a = pd.DataFrame({\n",
    "    'Version':[1,2],\n",
    "    'Success Case': [len(data1) - x1.Latitude, len(data2) - x2.Latitude],\n",
    "    'Total Row Number': [len(data1), len(data2)],\n",
    "    'Success Rate': [r1, r2],\n",
    "    })\n",
    "print(a)\n"
   ]
  },
  {
   "cell_type": "markdown",
   "metadata": {},
   "source": [
    "- Only about 78.99 percent left with postal code out of the 5000+ rows of data"
   ]
  },
  {
   "cell_type": "code",
   "execution_count": 30,
   "metadata": {},
   "outputs": [
    {
     "name": "stdout",
     "output_type": "stream",
     "text": [
      "   Case          Remark  Success Number  Row Numbers  Success Rate\n",
      "0     1   Original Data            4256        17210      0.247298\n",
      "1     2  Truncated Data            4256         5388      0.789903\n"
     ]
    }
   ],
   "source": [
    "data3 = pd.read_csv('data2/Postal Code.csv')\n",
    "\n",
    "x3 = np.count_nonzero(~np.isnan(data3['Postal Code']))\n",
    "r3 = x3/len(data1)\n",
    "r4 = x3/(len(data1) - x1.Latitude)\n",
    "\n",
    "a = pd.DataFrame({\n",
    "    'Case':[1,2],\n",
    "    'Remark':['Original Data', 'Truncated Data'],\n",
    "    'Success Number': [x3, x3],\n",
    "    'Row Numbers':[len(data1), len(data1) - x1.Latitude],\n",
    "    'Success Rate': [r3, r4],\n",
    "    })\n",
    "print(a)"
   ]
  }
 ],
 "metadata": {
  "kernelspec": {
   "display_name": "Python 3",
   "language": "python",
   "name": "python3"
  },
  "language_info": {
   "codemirror_mode": {
    "name": "ipython",
    "version": 3
   },
   "file_extension": ".py",
   "mimetype": "text/x-python",
   "name": "python",
   "nbconvert_exporter": "python",
   "pygments_lexer": "ipython3",
   "version": "3.11.4"
  },
  "orig_nbformat": 4
 },
 "nbformat": 4,
 "nbformat_minor": 2
}
