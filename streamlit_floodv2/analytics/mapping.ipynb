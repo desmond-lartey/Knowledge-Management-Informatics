{
 "cells": [
  {
   "cell_type": "code",
   "execution_count": null,
   "metadata": {},
   "outputs": [],
   "source": [
    "import folium\n",
    "from folium import Marker, GeoJson\n",
    "from folium.plugins import HeatMap\n",
    "import geemap\n",
    "\n",
    "import pandas as pd\n",
    "import geopandas as gpd"
   ]
  },
  {
   "cell_type": "code",
   "execution_count": null,
   "metadata": {},
   "outputs": [],
   "source": [
    "data = pd.read_csv('data2/all_states_all_years_geocoded.csv')\n",
    "data.head()"
   ]
  },
  {
   "cell_type": "code",
   "execution_count": null,
   "metadata": {},
   "outputs": [],
   "source": [
    "data = gpd.GeoDataFrame(data, geometry = gpd.points_from_xy(data.Longitude, data.Latitude), crs = \"EPSG:4326\")\n",
    "two_mile_buffer = data.geometry.buffer(.0007)\n",
    "# 11.5 cm || 20m per 1.5 cm || 153 m of diameter\n",
    "# two_mile_buffer = gpd.GeoDataFrame(two_mile_buffer, crs=\"EPSG:4326\")\n",
    "two_mile_buffer.head()"
   ]
  },
  {
   "cell_type": "code",
   "execution_count": null,
   "metadata": {},
   "outputs": [],
   "source": [
    "m = folium.Map(location=[4,104], zoom_start=4)\n",
    "button = 2015\n",
    "if button == 2015:\n",
    "    data = data[data['Year'] == 2015]\n",
    "elif button == 2016:\n",
    "    data = data[data['Year'] == 2016]\n",
    "elif button == 2017:\n",
    "    data = data[data['Year'] == 2017]\n",
    "elif button == 2018:\n",
    "    data = data[data['Year'] == 2018]\n",
    "elif button == 2019:\n",
    "    data = data[data['Year'] == 2019]\n",
    "elif button == 2020:\n",
    "    data = data[data['Year'] == 2020]\n",
    "elif button == 2021:\n",
    "    data = data[data['Year'] == 2021]\n",
    "else:\n",
    "    data = data[data['Year'] == 2022]\n",
    "\n",
    "HeatMap(data=data[['Latitude', 'Longitude']], radius=15).add_to(m)\n",
    "for idx, row in data.iterrows():\n",
    "    Marker([row['Latitude'], row['Longitude']]).add_to(m)\n",
    "    \n",
    "# Plot each polygon on the map\n",
    "folium.GeoJson(two_mile_buffer.geometry.to_crs(epsg=4326)).add_to(m)\n",
    "\n",
    "# Show the map\n",
    "# m"
   ]
  },
  {
   "cell_type": "code",
   "execution_count": null,
   "metadata": {},
   "outputs": [],
   "source": [
    "m = geemap.Map(center=[40, 104], zoom=4)\n",
    "m.add_geojson(GeoJson(two_mile_buffer.geometry.to_crs(epsg=4326)).data, fill_colors=['blue'])\n",
    "m\n"
   ]
  }
 ],
 "metadata": {
  "kernelspec": {
   "display_name": "Python 3",
   "language": "python",
   "name": "python3"
  },
  "language_info": {
   "codemirror_mode": {
    "name": "ipython",
    "version": 3
   },
   "file_extension": ".py",
   "mimetype": "text/x-python",
   "name": "python",
   "nbconvert_exporter": "python",
   "pygments_lexer": "ipython3",
   "version": "3.11.4"
  },
  "orig_nbformat": 4
 },
 "nbformat": 4,
 "nbformat_minor": 2
}
