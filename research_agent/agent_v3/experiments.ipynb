{
 "cells": [
  {
   "cell_type": "code",
   "execution_count": 3,
   "metadata": {},
   "outputs": [],
   "source": [
    "from prompts.create_questions import createQuestions\n",
    "from prompts.most_pertinent_question import mostPertinentQuestion\n",
    "from prompts.question_atomizer import questionAtomizer\n",
    "from prompts.refine_answer import refineAnswer\n",
    "from prompts.hypothetical_answer import hyDE\n",
    "from helpers.retriever import Retriever\n",
    "from helpers.response_helpers import result_to_questions_list\n",
    "from helpers.response_helpers import question_str_to_dict\n",
    "from helpers.response_helpers import parse_json\n",
    "\n",
    "model = \"mistral-openorca:latest\""
   ]
  },
  {
   "cell_type": "code",
   "execution_count": 4,
   "metadata": {},
   "outputs": [],
   "source": [
    "question = \"What is a private placement, how can a company raise money using private placement?\"\n",
    "\n",
    "previous_questions = \"\"\"\n",
    "[\n",
    "'What is a private placement?',\n",
    "'How can a company raise money using private placement?', \n",
    "'What are the conditions that a company must meet in order to conduct a private placement?'\n",
    "]\n",
    "\"\"\"\n",
    "\n",
    "context = \"\"\"\n",
    "Based on the context provided, a company must meet the following conditions in order to conduct a private placement:\n",
    "\n",
    "1. The offer or invitation to subscribe securities must be made to a maximum of fifty persons, or a higher number as prescribed by the regulations.\n",
    "2. The offer must not include qualified institutional buyers and employees of the company offered securities under an employee stock option scheme.\n",
    "3. The private placement must comply with the prescribed conditions, including the form and manner of the private placement.\n",
    "4. The company must pass a special resolution in its general meeting to issue depository receipts in a foreign country, subject to prescribed conditions.\n",
    "5. The company must issue a private placement offer letter for the private placement.\n",
    "6. The private placement offer letter must include information about the capital structure of the company, main objects of the public offer, terms of the present issue, main objects and present business of the company, and other prescribed particulars.\n",
    "7. Any condition requiring an applicant to waive compliance with the requirements of this section shall be void.\n",
    "\n",
    "In summary, a company must limit the number of persons to whom it offers securities, comply with prescribed conditions, and provide necessary information in the private placement offer letter to conduct a private placement. \n",
    "\"\"\"\n",
    "\n",
    "# ------\n",
    "\n",
    "question2 = \"What are the penalies for charterd accountant?\"\n",
    "existing_answer = \"\"\"The penalties for chartered accountants can vary depending on the nature of the misconduct. According to the information provided, the penalties are as follows:\n",
    "\n",
    "1. For individuals, the penalty can range from a minimum of one lakh rupees to a maximum of five times the fees received.\n",
    "2. For firms, the penalty can range from a minimum of ten lakh rupees to a maximum of ten times the fees received.\n",
    "3. In cases of professional or other misconduct, the member or the firm may be prohibited from practicing as a member of the Institute of Chartered Accountants of India for a minimum period of six months, or for a higher period not exceeding ten years, as determined by the National Financial Reporting Authority.\n",
    "4. The specific section in the Chartered Accountants Act, 1949 that defines \"professional or other misconduct\" is section 22.\n",
    "\n",
    "It is important to note that the actual definition of \"professional or other misconduct\" is not provided in the given context. Therefore, further information is required to accurately answer this question.\"\n",
    "\"\"\"\n",
    "new_context=\"\"\"\n",
    "Are there any other sections in the Chartered Accountants Act, 1949 that outline penalties for chartered accountants?\n",
    "Yes, there are other sections in the Chartered Accountants Act, 1949 that outline penalties for chartered accountants. Section 84 of the Act states that individuals may be penalized with a minimum of one lakh rupees, but which may extend to five times the fees received, while firms may be penalized with a minimum of ten lakh rupees, but which may extend to ten times the fees received. Additionally, the member or firm may be barred from practicing as a member of the Institute of Chartered Accountants of India for a minimum period of six months or for a higher period not exceeding ten years as decided by the National Financial Reporting Authority. This penalty is applicable in cases of professional or other misconduct as defined in section 22 of the Chartered Accountants Act, 1949.\n",
    "\"\"\""
   ]
  },
  {
   "cell_type": "code",
   "execution_count": 4,
   "metadata": {},
   "outputs": [
    {
     "name": "stdout",
     "output_type": "stream",
     "text": [
      " ['What are the benefits of raising money through private placement for a company?', 'What is the typical process of raising money using private placement?', 'Are there any risks associated with raising money through private placement?']"
     ]
    }
   ],
   "source": [
    "\n",
    "res = createQuestions(\n",
    "    question, context, previous_questions, num_questions=4\n",
    ")\n",
    "# questions = result_to_questions_list(res, parent_id=1)"
   ]
  },
  {
   "cell_type": "code",
   "execution_count": 6,
   "metadata": {},
   "outputs": [
    {
     "data": {
      "text/plain": [
       "[{'id': 4,\n",
       "  'parent_id': 2,\n",
       "  'question': 'What are the benefits of raising money through private placement for a company?',\n",
       "  'status': 'unanswered'},\n",
       " {'id': 5,\n",
       "  'parent_id': 2,\n",
       "  'question': 'What is the typical process of raising money using private placement?',\n",
       "  'status': 'unanswered'},\n",
       " {'id': 6,\n",
       "  'parent_id': 2,\n",
       "  'question': 'Are there any risks associated with raising money through private placement?',\n",
       "  'status': 'unanswered'}]"
      ]
     },
     "execution_count": 6,
     "metadata": {},
     "output_type": "execute_result"
    }
   ],
   "source": [
    "qs = result_to_questions_list(res, start_id=4, parent_id=2)\n",
    "qs"
   ]
  },
  {
   "cell_type": "code",
   "execution_count": 4,
   "metadata": {},
   "outputs": [
    {
     "name": "stdout",
     "output_type": "stream",
     "text": [
      " 3. What is the maximum number of persons to whom a company can offer securities in a private placement?{'id': 3, 'question': 'What is the maximum number of persons to whom a company can offer securities in a private placement?'}\n"
     ]
    }
   ],
   "source": [
    "unanswered_questions = \"[\" + \",\".join([f\"\\n\\t{q['id']}. {q['question']}\" for q in questions]) + \"\\n]\"\n",
    "pq_res = mostPertinentQuestion(question, unanswered_questions, model=model)\n",
    "pq = question_str_to_dict(question=pq_res)\n",
    "print(pq)"
   ]
  },
  {
   "cell_type": "code",
   "execution_count": 6,
   "metadata": {},
   "outputs": [
    {
     "name": "stdout",
     "output_type": "stream",
     "text": [
      " 1. What is a private placement?\n",
      "2. How can a company raise money using private placement?"
     ]
    },
    {
     "data": {
      "text/plain": [
       "[{'id': 1,\n",
       "  'question': 'What is a private placement?',\n",
       "  'type': 'hop',\n",
       "  'status': 'unanswered',\n",
       "  'answer': None},\n",
       " {'id': 2,\n",
       "  'question': 'How can a company raise money using private placement?',\n",
       "  'type': 'hop',\n",
       "  'status': 'unanswered',\n",
       "  'answer': None}]"
      ]
     },
     "execution_count": 6,
     "metadata": {},
     "output_type": "execute_result"
    }
   ],
   "source": [
    "res = questionAtomizer(question, model=model)\n",
    "questions = result_to_questions_list(res, type=\"hop\", status=\"unanswered\")\n",
    "questions"
   ]
  },
  {
   "cell_type": "code",
   "execution_count": 5,
   "metadata": {},
   "outputs": [
    {
     "name": "stdout",
     "output_type": "stream",
     "text": [
      " The penalties for chartered accountants can vary depending on the nature of the misconduct. According to the Chartered Accountants Act, 1949, there are several sections that outline penalties. Section 22 defines \"professional or other misconduct,\" which would result in the member or firm being prohibited from practicing as a chartered accountant for a minimum period of six months or for a higher period not exceeding ten years, as determined by the National Financial Reporting Authority. The penalty can range from a minimum of one lakh rupees to a maximum of five times the fees received for individuals and a minimum of ten lakh rupees to a maximum of ten times the fees received for firms. \n",
      "\n",
      "Additionally, Section 84 provides that individuals may be penalized with a minimum of one lakh rupees, but which may extend to five times the fees received, while firms may be penalized with a minimum of ten lakh rupees, but which may extend to ten times the fees received. Furthermore, members or firms found guilty of misconduct may be prohibited from practicing as chartered accountants, according to the duration determined by the National Financial Reporting Authority."
     ]
    },
    {
     "data": {
      "text/plain": [
       "' The penalties for chartered accountants can vary depending on the nature of the misconduct. According to the Chartered Accountants Act, 1949, there are several sections that outline penalties. Section 22 defines \"professional or other misconduct,\" which would result in the member or firm being prohibited from practicing as a chartered accountant for a minimum period of six months or for a higher period not exceeding ten years, as determined by the National Financial Reporting Authority. The penalty can range from a minimum of one lakh rupees to a maximum of five times the fees received for individuals and a minimum of ten lakh rupees to a maximum of ten times the fees received for firms. \\n\\nAdditionally, Section 84 provides that individuals may be penalized with a minimum of one lakh rupees, but which may extend to five times the fees received, while firms may be penalized with a minimum of ten lakh rupees, but which may extend to ten times the fees received. Furthermore, members or firms found guilty of misconduct may be prohibited from practicing as chartered accountants, according to the duration determined by the National Financial Reporting Authority.'"
      ]
     },
     "execution_count": 5,
     "metadata": {},
     "output_type": "execute_result"
    }
   ],
   "source": [
    "res = refineAnswer(question=question2, answer=existing_answer, context=new_context)\n",
    "\n",
    "res"
   ]
  },
  {
   "cell_type": "code",
   "execution_count": 8,
   "metadata": {},
   "outputs": [
    {
     "name": "stdout",
     "output_type": "stream",
     "text": [
      "The penalties for chartered accountants can vary depending on the nature of the misconduct. According to the information provided, the penalties are as follows:\n",
      "\n",
      "1. For individuals, the penalty can range from a minimum of one lakh rupees to a maximum of five times the fees received.\n",
      "2. For firms, the penalty can range from a minimum of ten lakh rupees to a maximum of ten times the fees received.\n",
      "3. In cases of professional or other misconduct, the member or the firm may be prohibited from practicing as a member of the Institute of Chartered Accountants of India for a minimum period of six months, or for a higher period not exceeding ten years, as determined by the National Financial Reporting Authority.\n",
      "4. The specific section in the Chartered Accountants Act, 1949 that defines \"professional or other misconduct\" is section 22.\n",
      "\n",
      "It is important to note that the actual definition of \"professional or other misconduct\" is not provided in the given context. Therefore, further information is required to accurately answer this question.\"\n",
      "\n"
     ]
    }
   ],
   "source": [
    "print(existing_answer)"
   ]
  },
  {
   "cell_type": "code",
   "execution_count": 9,
   "metadata": {},
   "outputs": [
    {
     "name": "stdout",
     "output_type": "stream",
     "text": [
      " Yes, there are other sections in the Chartered Accountants Act, 1949 that outline penalties for chartered accountants. Section 84 of the Act states that individuals may be penalized with a minimum of one lakh rupees, which may extend to five times the fees received, while firms may be penalized with a minimum of ten lakh rupees, which may extend to ten times the fees received. Additionally, the member or firm may be barred from practicing as a member of the Institute of Chartered Accountants of India for a minimum period of six months or for a higher period not exceeding ten years as determined by the National Financial Reporting Authority. This penalty is applicable in cases of professional or other misconduct as defined in section 22 of the Chartered Accountants Act, 1949.\n"
     ]
    }
   ],
   "source": [
    "print(res)"
   ]
  },
  {
   "cell_type": "code",
   "execution_count": 29,
   "metadata": {},
   "outputs": [],
   "source": [
    "from dotenv import load_dotenv\n",
    "load_dotenv(\"../.env\")\n",
    "import os\n",
    "DB_PASSWORD = os.environ[\"SUPABASE_PASSWORD\"]\n",
    "DB_DBUSER = os.environ[\"SUPABASE_DBUSER\"]\n",
    "DB_DATABASE = os.environ[\"SUPABASE_DATABASE\"]\n",
    "DB_HOST = os.environ[\"SUPABASE_HOST\"]\n",
    "DB_PORT = os.environ[\"SUPABASE_PORT\"]\n",
    "DB_CONN_STRING = (\n",
    "    f\"postgresql://{DB_DBUSER}:{DB_PASSWORD}@{DB_HOST}:{DB_PORT}/{DB_DATABASE}\"\n",
    ")\n",
    "\n",
    "retriever = Retriever(conn_string=DB_CONN_STRING, collection='legal_docs')\n",
    "docs = retriever.getDocs(\"what are the penalties for CA?\")\n"
   ]
  },
  {
   "cell_type": "code",
   "execution_count": 32,
   "metadata": {},
   "outputs": [
    {
     "name": "stdout",
     "output_type": "stream",
     "text": [
      "- Document: (h) penalty or punishment imposed on the company, its  directors or officers and  details of \n",
      "compounding of offences and appeals made against such penalty or  punishment;\n",
      "- Source: {'source': './data/CompaniesAct2013.pdf', 'page': 50}\n",
      "----\n",
      "- Document: under this Act, or otherwise in or about any matter arising under this  Act, \n",
      "he shall be punishable with imprisonment for a term which shall not be less than three years  but which \n",
      "may extend to seven years and with fine which may extend to ten lakh rupees.  \n",
      "450. Punishment whe re no specific penalty or punishment is provided. — If a company or any \n",
      "officer of a company or any other person contravenes any of  the provisions of this Act or the rules made \n",
      "thereunder, or any condition, limitation or  restriction subject to which any app roval, sanction, consent, \n",
      "confirmation, recognition,  direction or exemption in relation to any matter has been accorded, given or \n",
      "granted, and for  which no penalty or punishment is provided elsewhere in this Act, the company and \n",
      "every  officer of the compan y who is in default or such other person shall be punishable with fine  which \n",
      "may extend to ten thousand rupees, and where the contravention is continuing one,  with a further fine \n",
      "which may extend to one thousand rupees for every day after the first  during which the contravention\n",
      "- Source: {'source': './data/CompaniesAct2013.pdf', 'page': 208}\n",
      "----\n",
      "- Document: in the previous three months, the company — \n",
      "(a) has changed its name or shifted its registered office from one State to another;  \n",
      "(b) has made a disposal for value of property or rights held by it, immediately  before cesser of \n",
      "trade or otherwise carrying on of business, for the purpose of disposal  for gain in the normal course of \n",
      "trading or otherwise carrying on of business;  \n",
      "(c) has engaged in any other activity except the one which is necessary or expedient  for the \n",
      "purpose of making an application under that section, or deciding whether to do so  or concluding the \n",
      "affairs of the  company, or complying with any statutory requirement;  \n",
      "(d) has made an application to the Tribunal for the sanctioning of a compromise  or arrangement \n",
      "and the matter has not been finally concluded; or  \n",
      "(e) is being wound up under Chapter XX, whether voluntarily or by the Tribunal.  \n",
      "(2) If a company files an application under sub -section ( 2) of section 248 in violation of  sub-section \n",
      "(1), it shall be punishable with fine which may extend to one lakh rupees.\n",
      "- Source: {'source': './data/CompaniesAct2013.pdf', 'page': 142}\n",
      "----\n",
      "- Document: 190 \n",
      " 337. Penalty for frauds by officers. — If any person, being at the time of the commission of the  \n",
      "alleged offence an officer  of a company which is subsequently ordered to be wound up by the Tribunal or \n",
      "which  subsequently passes a resolution for voluntary winding up, — \n",
      "(a) has, by false pretences or by means of any other fraud, induced any person  to give credit to \n",
      "the company;  \n",
      "(b) with intent to defraud creditors of the company or any other person, has  made or caused to be \n",
      "made any gift or transfer of, or charge on, or has caused or  connived at the levying of any execution \n",
      "against, the property of the  company; or  \n",
      "(c) with intent to defraud creditors of the company, has concealed or removed  any part of the \n",
      "property of the company since the date of any unsatisfied judgment or  order for payment of money \n",
      "obtained against the company or within two months  before that date,  \n",
      "he shall be punishable with imprisonment for a term which shall not be less than one year but  which may\n",
      "- Source: {'source': './data/CompaniesAct2013.pdf', 'page': 176}\n",
      "----\n",
      "- Document: 84 \n",
      " (I) not less than one lakh rupees, but which may extend to five times  of the fees received, \n",
      "in case of individuals; and  \n",
      "(II) not less than ten lakh rupees, but which may extend to ten times  of the fees received, \n",
      "in case of firms;  \n",
      "(B) debarring the member or the firm from engaging himself or itself from  practice as \n",
      "member of the Institute of Charter ed Accountant of India referred to  in clause ( e) of sub -section \n",
      "(1) of section 2 of the Chartered Accountants Act,  1949  (38 of 1949)  for a minimum period of six \n",
      "months or for such higher period not exceeding  ten years as may be decided by the National \n",
      "Financial Reporting Authority.  \n",
      "Explanation. —For the purposes of this sub -section, the expression \"professional or  other misconduct\" \n",
      "shall have the same meaning assigned to it under section 22 of the  Chartered Accountants Act, 1949  ( 38 \n",
      "of 1949) . \n",
      "(5) Any person  aggrieved by any order of the National Financial Reporting Authority  issued under \n",
      "clause ( c) of sub -section ( 4), may prefer an appeal before the Appellate Authority  constituted under sub -\n",
      "- Source: {'source': './data/CompaniesAct2013.pdf', 'page': 70}\n"
     ]
    }
   ],
   "source": [
    "docs_string = '\\n----\\n'.join([  f\"- Document: {doc.page_content}\\n- Source: {doc.metadata}\" for doc in docs])\n",
    "print(docs_string)\n"
   ]
  },
  {
   "cell_type": "code",
   "execution_count": 21,
   "metadata": {},
   "outputs": [
    {
     "name": "stdout",
     "output_type": "stream",
     "text": [
      " Concepts:\n",
      "1. Private placement\n",
      "2. Company\n",
      "3. Raising money\n",
      "\n",
      "Context:\n",
      "- What are the different types of financing available for a company?\n",
      "- How do companies typically raise capital?"
     ]
    }
   ],
   "source": [
    "\n",
    "res = hyDE(question)\n"
   ]
  },
  {
   "cell_type": "markdown",
   "metadata": {},
   "source": [
    "## Agent Run model"
   ]
  },
  {
   "cell_type": "code",
   "execution_count": 5,
   "metadata": {},
   "outputs": [
    {
     "data": {
      "text/plain": [
       "[Question(id=1, parent_id=0, question='What do you mean 42?', answer=None, documents=None, status='unanswered'),\n",
       " Question(id=2, parent_id=1, question='What do you mean you dont know?', answer=None, documents=None, status='current'),\n",
       " Question(id=0, parent_id=None, question='What is life?', answer=None, documents=None, status='unanswered')]"
      ]
     },
     "execution_count": 5,
     "metadata": {},
     "output_type": "execute_result"
    }
   ],
   "source": [
    "from agent_run_model import AgentRunModel\n",
    "rm = AgentRunModel()\n",
    "\n",
    "rm.add_question({\n",
    "    'id': 1, \n",
    "    'parent_id': 0, \n",
    "    'question': 'What do you mean 42?',\n",
    "    'answer': None,\n",
    "    'documents': None\n",
    "})\n",
    "\n",
    "rm.add_question({\n",
    "    'id': 2, \n",
    "    'parent_id': 1, \n",
    "    'question': 'What do you mean you dont know?',\n",
    "    'answer': None,\n",
    "    'documents': None,\n",
    "    'status': 'current'\n",
    "})\n",
    "\n",
    "rm.add_question({\n",
    "    'id': 0,  \n",
    "    'question': 'What is life?'\n",
    "})\n",
    "\n",
    "rm.questions"
   ]
  },
  {
   "cell_type": "code",
   "execution_count": 6,
   "metadata": {},
   "outputs": [
    {
     "data": {
      "text/plain": [
       "[Question(id=1, parent_id=0, question='What do you mean 42?', answer=None, documents=None, status='unanswered'),\n",
       " Question(id=0, parent_id=None, question='What is life?', answer=None, documents=None, status='unanswered')]"
      ]
     },
     "execution_count": 6,
     "metadata": {},
     "output_type": "execute_result"
    }
   ],
   "source": [
    "rm.get_unanswered_questions()"
   ]
  },
  {
   "cell_type": "code",
   "execution_count": null,
   "metadata": {},
   "outputs": [],
   "source": []
  }
 ],
 "metadata": {
  "kernelspec": {
   "display_name": "OpenAI@3111",
   "language": "python",
   "name": "python3"
  },
  "language_info": {
   "codemirror_mode": {
    "name": "ipython",
    "version": 3
   },
   "file_extension": ".py",
   "mimetype": "text/x-python",
   "name": "python",
   "nbconvert_exporter": "python",
   "pygments_lexer": "ipython3",
   "version": "3.11.4"
  }
 },
 "nbformat": 4,
 "nbformat_minor": 2
}
